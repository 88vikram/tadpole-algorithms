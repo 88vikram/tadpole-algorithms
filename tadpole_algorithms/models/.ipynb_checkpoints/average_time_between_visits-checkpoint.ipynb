{
 "cells": [
  {
   "cell_type": "code",
   "execution_count": null,
   "metadata": {},
   "outputs": [],
   "source": [
    "def average_time_between_visits(df):\n",
    "    df1 = df[['RID', 'EXAMDATE']].copy()\n",
    "    df1 = df1.sort_values(by=['RID', 'EXAMDATE'])\n",
    "    df1['EXAMDATE'] = df1['EXAMDATE'].map(lambda x: datetime.datetime.strptime(x, '%Y-%m-%d'))\n",
    "    # Get future value from each row's next row\n",
    "    df1[\"Future_EXAMDATE\"] = df1['EXAMDATE'].shift(-1)\n",
    "    # Drop each last row per patient\n",
    "    df1 = df1.drop(df1.groupby('RID').tail(1).index.values)\n",
    "    return (df1['Future_EXAMDATE']-df1['EXAMDATE']).mean()\n"
   ]
  }
 ],
 "metadata": {
  "kernelspec": {
   "display_name": "Python 3",
   "language": "python",
   "name": "python3"
  },
  "language_info": {
   "codemirror_mode": {
    "name": "ipython",
    "version": 3
   },
   "file_extension": ".py",
   "mimetype": "text/x-python",
   "name": "python",
   "nbconvert_exporter": "python",
   "pygments_lexer": "ipython3",
   "version": "3.7.3"
  }
 },
 "nbformat": 4,
 "nbformat_minor": 2
}
